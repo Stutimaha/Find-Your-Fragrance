{
 "cells": [
  {
   "cell_type": "code",
   "execution_count": 1,
   "id": "469afa4f",
   "metadata": {},
   "outputs": [],
   "source": [
    "import warnings\n",
    "warnings.filterwarnings('ignore')\n",
    "\n",
    "import numpy as np\n",
    "from numpy.linalg import norm\n",
    "import pandas as pd\n",
    "import matplotlib.pyplot as plt\n",
    "import seaborn as sns\n",
    "%matplotlib inline\n",
    "\n",
    "from sklearn.decomposition import PCA\n",
    "from sentence_transformers import SentenceTransformer\n",
    "from sentence_transformers import util\n",
    "\n",
    "\n",
    "import skillsnetwork\n",
    "\n",
    "sns.set_context('notebook')\n",
    "sns.set_style('white')"
   ]
  },
  {
   "cell_type": "code",
   "execution_count": 2,
   "id": "cdeeb8b6",
   "metadata": {},
   "outputs": [],
   "source": [
    "# This function will allow us to easily plot data taking in x values, y values, and a title\n",
    "def plotter(x, y, title):\n",
    "    plt.plot(x, y)\n",
    "    plt.xlabel('X')\n",
    "    plt.ylabel('Y')\n",
    "    plt.title(title)\n",
    "    plt.show()"
   ]
  },
  {
   "cell_type": "code",
   "execution_count": 3,
   "id": "6fb11472",
   "metadata": {},
   "outputs": [
    {
     "data": {
      "text/html": [
       "<div>\n",
       "<style scoped>\n",
       "    .dataframe tbody tr th:only-of-type {\n",
       "        vertical-align: middle;\n",
       "    }\n",
       "\n",
       "    .dataframe tbody tr th {\n",
       "        vertical-align: top;\n",
       "    }\n",
       "\n",
       "    .dataframe thead th {\n",
       "        text-align: right;\n",
       "    }\n",
       "</style>\n",
       "<table border=\"1\" class=\"dataframe\">\n",
       "  <thead>\n",
       "    <tr style=\"text-align: right;\">\n",
       "      <th></th>\n",
       "      <th>Name</th>\n",
       "      <th>Brand</th>\n",
       "      <th>Description</th>\n",
       "      <th>Notes</th>\n",
       "      <th>Image URL</th>\n",
       "    </tr>\n",
       "  </thead>\n",
       "  <tbody>\n",
       "    <tr>\n",
       "      <th>0</th>\n",
       "      <td>Tihota Eau de Parfum</td>\n",
       "      <td>Indult</td>\n",
       "      <td>Rapa Nui for sugar, Tihota is, quite simply, ...</td>\n",
       "      <td>Vanilla bean, musks</td>\n",
       "      <td>https://static.luckyscent.com/images/products/...</td>\n",
       "    </tr>\n",
       "    <tr>\n",
       "      <th>1</th>\n",
       "      <td>Sola Parfum</td>\n",
       "      <td>Di Ser</td>\n",
       "      <td>A tribute to the expanse of space extending f...</td>\n",
       "      <td>Lavender, Yuzu, Lemongrass, Magnolia, Geraniu...</td>\n",
       "      <td>https://static.luckyscent.com/images/products/...</td>\n",
       "    </tr>\n",
       "    <tr>\n",
       "      <th>2</th>\n",
       "      <td>Kagiroi Parfum</td>\n",
       "      <td>Di Ser</td>\n",
       "      <td>An aromatic ode to the ancient beauty of Japa...</td>\n",
       "      <td>Green yuzu, green shikuwasa, sansho seed, cor...</td>\n",
       "      <td>https://static.luckyscent.com/images/products/...</td>\n",
       "    </tr>\n",
       "    <tr>\n",
       "      <th>3</th>\n",
       "      <td>Velvet Fantasy Eau de Parfum</td>\n",
       "      <td>Montale</td>\n",
       "      <td>Velvet Fantasy is a solar fragrance where cit...</td>\n",
       "      <td>tangerine,  pink pepper,  black coffee,  leat...</td>\n",
       "      <td>https://static.luckyscent.com/images/products/...</td>\n",
       "    </tr>\n",
       "    <tr>\n",
       "      <th>4</th>\n",
       "      <td>A Blvd. Called Sunset Eau de Parfum</td>\n",
       "      <td>A Lab on Fire</td>\n",
       "      <td>There's no way A Lab On Fire could relocate t...</td>\n",
       "      <td>Bergamot, almond, violet, jasmine, leather, s...</td>\n",
       "      <td>https://static.luckyscent.com/images/products/...</td>\n",
       "    </tr>\n",
       "  </tbody>\n",
       "</table>\n",
       "</div>"
      ],
      "text/plain": [
       "                                  Name          Brand  \\\n",
       "0                 Tihota Eau de Parfum         Indult   \n",
       "1                          Sola Parfum         Di Ser   \n",
       "2                       Kagiroi Parfum         Di Ser   \n",
       "3         Velvet Fantasy Eau de Parfum        Montale   \n",
       "4  A Blvd. Called Sunset Eau de Parfum  A Lab on Fire   \n",
       "\n",
       "                                         Description  \\\n",
       "0   Rapa Nui for sugar, Tihota is, quite simply, ...   \n",
       "1   A tribute to the expanse of space extending f...   \n",
       "2   An aromatic ode to the ancient beauty of Japa...   \n",
       "3   Velvet Fantasy is a solar fragrance where cit...   \n",
       "4   There's no way A Lab On Fire could relocate t...   \n",
       "\n",
       "                                               Notes  \\\n",
       "0                                Vanilla bean, musks   \n",
       "1   Lavender, Yuzu, Lemongrass, Magnolia, Geraniu...   \n",
       "2   Green yuzu, green shikuwasa, sansho seed, cor...   \n",
       "3   tangerine,  pink pepper,  black coffee,  leat...   \n",
       "4   Bergamot, almond, violet, jasmine, leather, s...   \n",
       "\n",
       "                                           Image URL  \n",
       "0  https://static.luckyscent.com/images/products/...  \n",
       "1  https://static.luckyscent.com/images/products/...  \n",
       "2  https://static.luckyscent.com/images/products/...  \n",
       "3  https://static.luckyscent.com/images/products/...  \n",
       "4  https://static.luckyscent.com/images/products/...  "
      ]
     },
     "execution_count": 3,
     "metadata": {},
     "output_type": "execute_result"
    }
   ],
   "source": [
    "df = pd.read_csv(\"final_perfume_data.csv\", encoding=\"unicode_escape\")\n",
    "df.head()"
   ]
  },
  {
   "cell_type": "code",
   "execution_count": 4,
   "id": "f31191ed",
   "metadata": {},
   "outputs": [
    {
     "data": {
      "text/plain": [
       "[' Vanilla bean, musks',\n",
       " ' Lavender, Yuzu, Lemongrass, Magnolia, Geranium, Jasmine, Frankincense, Myrrh',\n",
       " ' Green yuzu, green shikuwasa, sansho seed, coriander, ylang-ylang, shiso, rosewood, vetiver, hinoki, cypriol, patchouli, agarwood',\n",
       " ' tangerine,  pink pepper,  black coffee,  leather,  violet,  jasmine,  lily of the valley,  heliotrope powder,  vanilla,  amber, sandalwood,  toffee,  musk,  oakmoss',\n",
       " ' Bergamot, almond, violet, jasmine, leather, sandalwood, vanilla, tonka',\n",
       " ' Orange flower, neroli, honeysuckle, warm milk, pastry, salicylates, sandalwood, vanilla bean, heliotrope',\n",
       " ' Timur JE, Soap Foam Accord (Aldehydes & Musk), Pink Pepper, Jasmine e-pure, Rose Superessence, Lily-of-the-valley Accord, Patchouli, Moss Absolute, Sandalwood Accord & Orcanox',\n",
       " ' Tobacco, hay, elemi, copaiba, olibanum, nutmeg, black pepper, castoreum, atlas cedar, oakmoss, cognac, ambroxan, norlimbanol, cinnamon, cumin seed, ash',\n",
       " ' Saffron, champaca, fir balsam, beeswax, amber, damask rose, rose de mai, tobacco, leather, dark chocolate, prune, oud, musk, oakmoss, ambrette, smoke, incense, ylang ylang',\n",
       " ' Cambodian oud, Trat oud, jasmin sambac, champaca, olibanum, turmeric, clove, caraway, cardamom, cinnamon, cumin, coriander, gardenia, opoponax, saffron, sandalwood, patchouli, musk']"
      ]
     },
     "execution_count": 4,
     "metadata": {},
     "output_type": "execute_result"
    }
   ],
   "source": [
    "list(df.Notes[0:10])"
   ]
  },
  {
   "cell_type": "code",
   "execution_count": 5,
   "id": "13b0550b",
   "metadata": {},
   "outputs": [
    {
     "data": {
      "text/html": [
       "<div>\n",
       "<style scoped>\n",
       "    .dataframe tbody tr th:only-of-type {\n",
       "        vertical-align: middle;\n",
       "    }\n",
       "\n",
       "    .dataframe tbody tr th {\n",
       "        vertical-align: top;\n",
       "    }\n",
       "\n",
       "    .dataframe thead th {\n",
       "        text-align: right;\n",
       "    }\n",
       "</style>\n",
       "<table border=\"1\" class=\"dataframe\">\n",
       "  <thead>\n",
       "    <tr style=\"text-align: right;\">\n",
       "      <th></th>\n",
       "      <th>Name</th>\n",
       "      <th>Notes</th>\n",
       "    </tr>\n",
       "  </thead>\n",
       "  <tbody>\n",
       "    <tr>\n",
       "      <th>0</th>\n",
       "      <td>Indult - Tihota Eau de Parfum</td>\n",
       "      <td>Vanilla bean, musks</td>\n",
       "    </tr>\n",
       "    <tr>\n",
       "      <th>1</th>\n",
       "      <td>Di Ser - Sola Parfum</td>\n",
       "      <td>Lavender, Yuzu, Lemongrass, Magnolia, Geraniu...</td>\n",
       "    </tr>\n",
       "    <tr>\n",
       "      <th>2</th>\n",
       "      <td>Di Ser - Kagiroi Parfum</td>\n",
       "      <td>Green yuzu, green shikuwasa, sansho seed, cor...</td>\n",
       "    </tr>\n",
       "    <tr>\n",
       "      <th>3</th>\n",
       "      <td>Montale - Velvet Fantasy Eau de Parfum</td>\n",
       "      <td>tangerine,  pink pepper,  black coffee,  leat...</td>\n",
       "    </tr>\n",
       "    <tr>\n",
       "      <th>4</th>\n",
       "      <td>A Lab on Fire - A Blvd. Called Sunset Eau de P...</td>\n",
       "      <td>Bergamot, almond, violet, jasmine, leather, s...</td>\n",
       "    </tr>\n",
       "  </tbody>\n",
       "</table>\n",
       "</div>"
      ],
      "text/plain": [
       "                                                Name  \\\n",
       "0                      Indult - Tihota Eau de Parfum   \n",
       "1                               Di Ser - Sola Parfum   \n",
       "2                            Di Ser - Kagiroi Parfum   \n",
       "3             Montale - Velvet Fantasy Eau de Parfum   \n",
       "4  A Lab on Fire - A Blvd. Called Sunset Eau de P...   \n",
       "\n",
       "                                               Notes  \n",
       "0                                Vanilla bean, musks  \n",
       "1   Lavender, Yuzu, Lemongrass, Magnolia, Geraniu...  \n",
       "2   Green yuzu, green shikuwasa, sansho seed, cor...  \n",
       "3   tangerine,  pink pepper,  black coffee,  leat...  \n",
       "4   Bergamot, almond, violet, jasmine, leather, s...  "
      ]
     },
     "execution_count": 5,
     "metadata": {},
     "output_type": "execute_result"
    }
   ],
   "source": [
    "df.rename(columns={\"ï»¿Name\": \"Name\"}, inplace=True)\n",
    "df['Name'] = df['Brand'] + \" - \" + df['Name']\n",
    "df.drop(labels=['Description', 'Image URL', 'Brand'], axis=1, inplace=True)\n",
    "df.head()"
   ]
  },
  {
   "cell_type": "code",
   "execution_count": 6,
   "id": "ca85947b",
   "metadata": {},
   "outputs": [
    {
     "data": {
      "text/plain": [
       "80"
      ]
     },
     "execution_count": 6,
     "metadata": {},
     "output_type": "execute_result"
    }
   ],
   "source": [
    "df.Notes.isnull().sum()"
   ]
  },
  {
   "cell_type": "code",
   "execution_count": 7,
   "id": "1163efa6",
   "metadata": {},
   "outputs": [
    {
     "data": {
      "text/plain": [
       "(2111, 2)"
      ]
     },
     "execution_count": 7,
     "metadata": {},
     "output_type": "execute_result"
    }
   ],
   "source": [
    "df.dropna(inplace = True)\n",
    "df.reset_index(inplace=True, drop = True)\n",
    "df.shape"
   ]
  },
  {
   "cell_type": "code",
   "execution_count": 8,
   "id": "2da172b7",
   "metadata": {},
   "outputs": [],
   "source": [
    "words = [\"Perfume Oil\", \"Extrait\", \"Travel\", \"Hair\", \"Body\", \"Hand\", \"Intense\", \"Intensivo\", \"Oil\"] # check for these words in perfume names\n",
    "\n",
    "index_to_drop = []\n",
    "for index, name in enumerate(df.Name):\n",
    "    if any(word.lower() in name.lower() for word in words):\n",
    "        index_to_drop.append(index)"
   ]
  },
  {
   "cell_type": "code",
   "execution_count": 9,
   "id": "7d66d5a2",
   "metadata": {},
   "outputs": [
    {
     "data": {
      "text/plain": [
       "(1612, 2)"
      ]
     },
     "execution_count": 9,
     "metadata": {},
     "output_type": "execute_result"
    }
   ],
   "source": [
    "df.drop(index_to_drop, axis=0, inplace=True)\n",
    "df.reset_index(inplace=True, drop = True)\n",
    "df.shape"
   ]
  },
  {
   "cell_type": "code",
   "execution_count": 10,
   "id": "3552d078",
   "metadata": {},
   "outputs": [
    {
     "data": {
      "text/plain": [
       "1612"
      ]
     },
     "execution_count": 10,
     "metadata": {},
     "output_type": "execute_result"
    }
   ],
   "source": [
    "df.Notes = df.Notes.apply(lambda x: str(x))\n",
    "notes = df.Notes.to_list()\n",
    "len(notes)"
   ]
  },
  {
   "cell_type": "code",
   "execution_count": 11,
   "id": "e2191dac",
   "metadata": {},
   "outputs": [
    {
     "data": {
      "application/vnd.jupyter.widget-view+json": {
       "model_id": "0b3215cc51e84fd794ca0f0a20d39f0c",
       "version_major": 2,
       "version_minor": 0
      },
      "text/plain": [
       "Batches:   0%|          | 0/26 [00:00<?, ?it/s]"
      ]
     },
     "metadata": {},
     "output_type": "display_data"
    }
   ],
   "source": [
    "model = SentenceTransformer('all-MiniLM-L6-v2')\n",
    "\n",
    "note_embeddings = model.encode(notes, show_progress_bar=True, batch_size=64)"
   ]
  },
  {
   "cell_type": "code",
   "execution_count": 12,
   "id": "9208bdbd",
   "metadata": {},
   "outputs": [
    {
     "name": "stdout",
     "output_type": "stream",
     "text": [
      "(1612, 384)\n",
      "[-0.00921524 -0.00588333  0.07965603  0.01108184  0.0920339  -0.06118878\n",
      "  0.06980839  0.04193391  0.01312284 -0.00108816  0.06511044 -0.08008223\n",
      "  0.01984981 -0.13829458 -0.02251236 -0.00748578  0.12410549  0.06448846\n",
      "  0.00684044 -0.01724513  0.04117164  0.01706347  0.00854874  0.06719033\n",
      " -0.05611396  0.01932547  0.02498643 -0.02417995 -0.03028038 -0.12058594\n",
      " -0.01737692  0.03183731  0.01314924  0.02147919 -0.10208161  0.0320526\n",
      " -0.01535685 -0.02603945  0.06542445 -0.01513855  0.01592387 -0.06788438\n",
      "  0.01501888 -0.01736868 -0.06789885 -0.01907123  0.01838118 -0.0566425\n",
      " -0.00130135 -0.01895572]\n"
     ]
    }
   ],
   "source": [
    "print(note_embeddings.shape)\n",
    "\n",
    "print(note_embeddings[0][:50]) # first 50 values in the embedding of \"Vanilla bean, musks\""
   ]
  },
  {
   "cell_type": "code",
   "execution_count": 13,
   "id": "2e012e99",
   "metadata": {},
   "outputs": [
    {
     "data": {
      "text/plain": [
       "torch.Size([1612, 1612])"
      ]
     },
     "execution_count": 13,
     "metadata": {},
     "output_type": "execute_result"
    }
   ],
   "source": [
    "cosine_scores = util.cos_sim(note_embeddings, note_embeddings)\n",
    "cosine_scores.shape"
   ]
  },
  {
   "cell_type": "code",
   "execution_count": 14,
   "id": "53499cb1",
   "metadata": {},
   "outputs": [
    {
     "data": {
      "text/plain": [
       "1298466"
      ]
     },
     "execution_count": 14,
     "metadata": {},
     "output_type": "execute_result"
    }
   ],
   "source": [
    "pairs = []\n",
    "\n",
    "for i in range(len(cosine_scores)-1):\n",
    "    for j in range(i+1, len(cosine_scores)):\n",
    "        pairs.append({\"index\": [i,j], \"score\": cosine_scores[i][j]})\n",
    "\n",
    "len(pairs)"
   ]
  },
  {
   "cell_type": "code",
   "execution_count": 15,
   "id": "ee1422f4",
   "metadata": {
    "scrolled": true
   },
   "outputs": [
    {
     "name": "stdout",
     "output_type": "stream",
     "text": [
      "Carthusia - Fiori di Capri Parfum | Carthusia - Fiori di Capri Eau de Parfum \n",
      " Score: 1.00 \n",
      "\n",
      "Carthusia - Mediterraneo Parfum | Carthusia - Mediterraneo Eau de Parfum \n",
      " Score: 1.00 \n",
      "\n",
      "Maison Francis Kurkdjian - Gentle fluidity Silver Eau de Parfum | Maison Francis Kurkdjian - gentle Fluidity Gold Eau de Parfum \n",
      " Score: 1.00 \n",
      "\n",
      "Comme des Garcons - 2 Candle | Comme des Garcons - 2 Eau de Parfum \n",
      " Score: 1.00 \n",
      "\n",
      "Roja Parfums - Elysium Parfum Cologne | Roja Parfums - Vetiver Parfum Cologne \n",
      " Score: 1.00 \n",
      "\n",
      "Juliette Has a Gun - Not A Perfume Superdose Eau de Parfum | Juliette Has a Gun - Not a Perfume Eau de Parfum \n",
      " Score: 1.00 \n",
      "\n",
      "Ormonde Jayne - Ormonde Elixir Parfum | Ormonde Jayne - Ormonde Woman Eau de Parfum \n",
      " Score: 0.98 \n",
      "\n",
      "PARFUMS DE NICOLAI - Incense Oud Eau de Parfum | PARFUMS DE NICOLAI - Oud Sublime Elixir de Parfum \n",
      " Score: 0.97 \n",
      "\n",
      "Ormonde Jayne - Ta'if Elixir Parfum | Ormonde Jayne - Ta'if Eau de Parfum \n",
      " Score: 0.96 \n",
      "\n",
      "J-Scent - Hisui (Jade) Eau de Parfum | J-Scent - Shaft of Light Eau de Parfum \n",
      " Score: 0.95 \n",
      "\n"
     ]
    }
   ],
   "source": [
    "sorted_pairs = sorted(pairs, key=lambda x: x['score'], reverse=True)\n",
    "\n",
    "for pair in sorted_pairs[0:10]:\n",
    "    i, j = pair['index']\n",
    "    print(f\"{df.iloc[i, 0]} | {df.iloc[j, 0]} \\n Score: {pair['score']:.2f} \\n\")"
   ]
  },
  {
   "cell_type": "code",
   "execution_count": 16,
   "id": "adeb9ec9",
   "metadata": {
    "scrolled": true
   },
   "outputs": [
    {
     "data": {
      "text/html": [
       "<div>\n",
       "<style scoped>\n",
       "    .dataframe tbody tr th:only-of-type {\n",
       "        vertical-align: middle;\n",
       "    }\n",
       "\n",
       "    .dataframe tbody tr th {\n",
       "        vertical-align: top;\n",
       "    }\n",
       "\n",
       "    .dataframe thead th {\n",
       "        text-align: right;\n",
       "    }\n",
       "</style>\n",
       "<table border=\"1\" class=\"dataframe\">\n",
       "  <thead>\n",
       "    <tr style=\"text-align: right;\">\n",
       "      <th></th>\n",
       "      <th>Name</th>\n",
       "      <th>Notes</th>\n",
       "    </tr>\n",
       "  </thead>\n",
       "  <tbody>\n",
       "    <tr>\n",
       "      <th>0</th>\n",
       "      <td>Jo Malone - English Pear &amp; Freesia</td>\n",
       "      <td>Pear, Melon, Freesia, Rose, Musk, Patchouli, R...</td>\n",
       "    </tr>\n",
       "    <tr>\n",
       "      <th>1</th>\n",
       "      <td>Guerlain - Aqua Allegoria Nerolia Vetiver Eau ...</td>\n",
       "      <td>Basil, Vetiver, Fig Accord, Neroli</td>\n",
       "    </tr>\n",
       "    <tr>\n",
       "      <th>2</th>\n",
       "      <td>Chloe Eau de Parfum</td>\n",
       "      <td>Peony, Litchi, Freesia, Rose, Lily-of-the-Vall...</td>\n",
       "    </tr>\n",
       "  </tbody>\n",
       "</table>\n",
       "</div>"
      ],
      "text/plain": [
       "                                                Name  \\\n",
       "0                 Jo Malone - English Pear & Freesia   \n",
       "1  Guerlain - Aqua Allegoria Nerolia Vetiver Eau ...   \n",
       "2                                Chloe Eau de Parfum   \n",
       "\n",
       "                                               Notes  \n",
       "0  Pear, Melon, Freesia, Rose, Musk, Patchouli, R...  \n",
       "1                 Basil, Vetiver, Fig Accord, Neroli  \n",
       "2  Peony, Litchi, Freesia, Rose, Lily-of-the-Vall...  "
      ]
     },
     "execution_count": 16,
     "metadata": {},
     "output_type": "execute_result"
    }
   ],
   "source": [
    "my_perfumes = pd.DataFrame([['Jo Malone - English Pear & Freesia', 'Pear, Melon, Freesia, Rose, Musk, Patchouli, Rhuburb, Amber'], \n",
    "                      ['Guerlain - Aqua Allegoria Nerolia Vetiver Eau de Toilette', 'Basil, Vetiver, Fig Accord, Neroli'],\n",
    "                      ['Chloe Eau de Parfum', 'Peony, Litchi, Freesia, Rose, Lily-of-the-Valley, Magnolia, Virginia Cedar, Amber.']                     \n",
    "                     ],\n",
    "                   columns=df.columns)\n",
    "\n",
    "my_perfumes"
   ]
  },
  {
   "cell_type": "code",
   "execution_count": 17,
   "id": "1df451e3",
   "metadata": {},
   "outputs": [
    {
     "data": {
      "application/vnd.jupyter.widget-view+json": {
       "model_id": "a59a92e18fc44e8d96c31197a95839ea",
       "version_major": 2,
       "version_minor": 0
      },
      "text/plain": [
       "Batches:   0%|          | 0/1 [00:00<?, ?it/s]"
      ]
     },
     "metadata": {},
     "output_type": "display_data"
    }
   ],
   "source": [
    "notes = list(my_perfumes.Notes)\n",
    "\n",
    "model = SentenceTransformer('all-MiniLM-L6-v2')\n",
    "my_embeddings = model.encode(notes, show_progress_bar=True)"
   ]
  },
  {
   "cell_type": "code",
   "execution_count": 18,
   "id": "061e2c44",
   "metadata": {},
   "outputs": [],
   "source": [
    "cosine_scores = util.cos_sim(my_embeddings, note_embeddings)"
   ]
  },
  {
   "cell_type": "code",
   "execution_count": 19,
   "id": "337ea796",
   "metadata": {},
   "outputs": [],
   "source": [
    "my_pairs=[]\n",
    "\n",
    "for i in range(cosine_scores.shape[0]):\n",
    "    for j in range(cosine_scores.shape[1]):\n",
    "        my_pairs.append({\"index\": [i,j], \"score\": cosine_scores[i][j]})\n",
    "        \n",
    "        \n",
    "my_sorted_pairs = sorted(my_pairs, key=lambda x: x['score'], reverse=True)"
   ]
  },
  {
   "cell_type": "code",
   "execution_count": 20,
   "id": "7d731ad7",
   "metadata": {},
   "outputs": [
    {
     "name": "stdout",
     "output_type": "stream",
     "text": [
      "Recommended for Jo Malone - English Pear & Freesia:\n",
      " 1. Alexandre. J - Silver Ombre Eau de Parfum (Score: 0.80)\n",
      " 2. Montale - Starry Nights Eau de Parfum (Score: 0.79)\n",
      " 3. BDK Parfums - Bouquet de Hongrie Eau de Parfum (Score: 0.79)\n",
      " 4. Jovoy Paris - Psychedelique Eau de Parfum (Score: 0.79)\n",
      " 5. L'Artisan Parfumeur - Champ de Fleurs Eau de Cologne (Score: 0.78)\n",
      "\n",
      "\n",
      "Recommended for Guerlain - Aqua Allegoria Nerolia Vetiver Eau de Toilette:\n",
      " 1. Liquides Imaginaires - Tellus Eau de Parfum (Score: 0.61)\n",
      " 2. BYREDO - Oud Immortel Eau de Parfum (Score: 0.61)\n",
      " 3. Vilhelm Parfumerie - Basilico & Fellini Eau de Parfum (Score: 0.60)\n",
      " 4. Nanadebary - Green Eau de Parfum (Score: 0.60)\n",
      " 5. Reims Parfums - L'Eau de Reims (Score: 0.58)\n",
      "\n",
      "\n",
      "Recommended for Chloe Eau de Parfum:\n",
      " 1. Caron - French Cancan - Eau de Parfum (Score: 0.77)\n",
      " 2. Ormonde Jayne - Frangipani Eau de Parfum (Score: 0.76)\n",
      " 3. Floris London - 1962 Eau de Parfum (Score: 0.74)\n",
      " 4. Parfums MDCI - Rose de Siwa Eau de Parfum (Score: 0.73)\n",
      " 5. PARFUMS DE NICOLAI - Rose Oud Eau de Parfum (Score: 0.73)\n",
      "\n",
      "\n"
     ]
    }
   ],
   "source": [
    "for i in range(cosine_scores.shape[0]):\n",
    "\n",
    "    print(f\"Recommended for {my_perfumes.iloc[i, 0]}:\")\n",
    "    my_pairs = []\n",
    "    for j in range(cosine_scores.shape[1]):\n",
    "        my_pairs.append({\"index\": j, \"score\": cosine_scores[i][j]})\n",
    "        my_sorted_pairs = sorted(my_pairs, key=lambda x: x['score'], reverse=True)\n",
    "        \n",
    "    for no, pair in enumerate(my_sorted_pairs[:5]):\n",
    "        print(f\" {no+1}. {df.iloc[pair['index'], 0]} (Score: {pair['score']:.2f})\")\n",
    "    print(\"\\n\")"
   ]
  },
  {
   "cell_type": "code",
   "execution_count": null,
   "id": "b188dd2c",
   "metadata": {},
   "outputs": [],
   "source": []
  },
  {
   "cell_type": "code",
   "execution_count": null,
   "id": "04936169",
   "metadata": {},
   "outputs": [],
   "source": [
    "   "
   ]
  },
  {
   "cell_type": "code",
   "execution_count": 21,
   "id": "6d0316d2",
   "metadata": {},
   "outputs": [],
   "source": [
    "import pickle\n",
    "with open('perfume_recommendation.sav', 'wb') as f:\n",
    "    pickle.dump(model, f)\n",
    "with open('perfume_recommendation.sav', 'rb') as f:\n",
    "    model = pickle.load(f)\n"
   ]
  },
  {
   "cell_type": "code",
   "execution_count": 22,
   "id": "82033ffc",
   "metadata": {},
   "outputs": [
    {
     "data": {
      "application/vnd.jupyter.widget-view+json": {
       "model_id": "eb131eb7ee0b43c888da06e883017f40",
       "version_major": 2,
       "version_minor": 0
      },
      "text/plain": [
       "Batches:   0%|          | 0/1 [00:00<?, ?it/s]"
      ]
     },
     "metadata": {},
     "output_type": "display_data"
    },
    {
     "name": "stdout",
     "output_type": "stream",
     "text": [
      "Recommended for Jo Malone - English Pear & Freesia:\n",
      " 1. Alexandre. J - Silver Ombre Eau de Parfum (Score: 0.80)\n",
      " 2. Montale - Starry Nights Eau de Parfum (Score: 0.79)\n",
      " 3. BDK Parfums - Bouquet de Hongrie Eau de Parfum (Score: 0.79)\n",
      " 4. Jovoy Paris - Psychedelique Eau de Parfum (Score: 0.79)\n",
      " 5. L'Artisan Parfumeur - Champ de Fleurs Eau de Cologne (Score: 0.78)\n"
     ]
    }
   ],
   "source": [
    "import pickle\n",
    "from sentence_transformers import SentenceTransformer, util\n",
    "\n",
    "# Load the saved model\n",
    "with open('perfume_recommendation.sav', 'rb') as f:\n",
    "    model = pickle.load(f)\n",
    "\n",
    "# Get user input\n",
    "user_perfume = 'Jo Malone - English Pear & Freesia'\n",
    "user_notes = 'Pear, Melon, Freesia, Rose, Musk, Patchouli, Rhuburb, Amber'\n",
    "\n",
    "# Encode user notes\n",
    "user_embeddings = model.encode([user_notes], show_progress_bar=True)\n",
    "\n",
    "# Calculate cosine similarity scores between user embeddings and dataset embeddings\n",
    "cosine_scores = util.cos_sim(user_embeddings, note_embeddings)\n",
    "\n",
    "# Sort the scores in descending order and recommend top 5 perfumes\n",
    "my_pairs=[]\n",
    "for j in range(cosine_scores.shape[1]):\n",
    "    my_pairs.append({\"index\": j, \"score\": cosine_scores[0][j]})\n",
    "my_sorted_pairs = sorted(my_pairs, key=lambda x: x['score'], reverse=True)\n",
    "\n",
    "print(f\"Recommended for {user_perfume}:\")\n",
    "for no, pair in enumerate(my_sorted_pairs[:5]):\n",
    "    print(f\" {no+1}. {df.iloc[pair['index'], 0]} (Score: {pair['score']:.2f})\")\n"
   ]
  },
  {
   "cell_type": "code",
   "execution_count": null,
   "id": "150e15fe",
   "metadata": {},
   "outputs": [],
   "source": []
  }
 ],
 "metadata": {
  "kernelspec": {
   "display_name": "Python 3 (ipykernel)",
   "language": "python",
   "name": "python3"
  },
  "language_info": {
   "codemirror_mode": {
    "name": "ipython",
    "version": 3
   },
   "file_extension": ".py",
   "mimetype": "text/x-python",
   "name": "python",
   "nbconvert_exporter": "python",
   "pygments_lexer": "ipython3",
   "version": "3.9.7"
  }
 },
 "nbformat": 4,
 "nbformat_minor": 5
}
