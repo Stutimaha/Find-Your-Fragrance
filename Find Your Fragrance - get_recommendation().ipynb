{
 "cells": [
  {
   "cell_type": "code",
   "execution_count": 15,
   "id": "469afa4f",
   "metadata": {},
   "outputs": [],
   "source": [
    "# Import required libraries\n",
    "import warnings\n",
    "warnings.filterwarnings('ignore')\n",
    "\n",
    "import pandas as pd\n",
    "import seaborn as sns\n",
    "\n",
    "from sentence_transformers import SentenceTransformer, util\n",
    "\n",
    "sns.set_context('notebook')\n",
    "sns.set_style('white')"
   ]
  },
  {
   "cell_type": "code",
   "execution_count": 2,
   "id": "6fb11472",
   "metadata": {},
   "outputs": [
    {
     "data": {
      "text/html": [
       "<div>\n",
       "<style scoped>\n",
       "    .dataframe tbody tr th:only-of-type {\n",
       "        vertical-align: middle;\n",
       "    }\n",
       "\n",
       "    .dataframe tbody tr th {\n",
       "        vertical-align: top;\n",
       "    }\n",
       "\n",
       "    .dataframe thead th {\n",
       "        text-align: right;\n",
       "    }\n",
       "</style>\n",
       "<table border=\"1\" class=\"dataframe\">\n",
       "  <thead>\n",
       "    <tr style=\"text-align: right;\">\n",
       "      <th></th>\n",
       "      <th>Name</th>\n",
       "      <th>Brand</th>\n",
       "      <th>Description</th>\n",
       "      <th>Notes</th>\n",
       "      <th>Image URL</th>\n",
       "    </tr>\n",
       "  </thead>\n",
       "  <tbody>\n",
       "    <tr>\n",
       "      <th>0</th>\n",
       "      <td>Tihota Eau de Parfum</td>\n",
       "      <td>Indult</td>\n",
       "      <td>Rapa Nui for sugar, Tihota is, quite simply, ...</td>\n",
       "      <td>Vanilla bean, musks</td>\n",
       "      <td>https://static.luckyscent.com/images/products/...</td>\n",
       "    </tr>\n",
       "    <tr>\n",
       "      <th>1</th>\n",
       "      <td>Sola Parfum</td>\n",
       "      <td>Di Ser</td>\n",
       "      <td>A tribute to the expanse of space extending f...</td>\n",
       "      <td>Lavender, Yuzu, Lemongrass, Magnolia, Geraniu...</td>\n",
       "      <td>https://static.luckyscent.com/images/products/...</td>\n",
       "    </tr>\n",
       "    <tr>\n",
       "      <th>2</th>\n",
       "      <td>Kagiroi Parfum</td>\n",
       "      <td>Di Ser</td>\n",
       "      <td>An aromatic ode to the ancient beauty of Japa...</td>\n",
       "      <td>Green yuzu, green shikuwasa, sansho seed, cor...</td>\n",
       "      <td>https://static.luckyscent.com/images/products/...</td>\n",
       "    </tr>\n",
       "    <tr>\n",
       "      <th>3</th>\n",
       "      <td>Velvet Fantasy Eau de Parfum</td>\n",
       "      <td>Montale</td>\n",
       "      <td>Velvet Fantasy is a solar fragrance where cit...</td>\n",
       "      <td>tangerine,  pink pepper,  black coffee,  leat...</td>\n",
       "      <td>https://static.luckyscent.com/images/products/...</td>\n",
       "    </tr>\n",
       "    <tr>\n",
       "      <th>4</th>\n",
       "      <td>A Blvd. Called Sunset Eau de Parfum</td>\n",
       "      <td>A Lab on Fire</td>\n",
       "      <td>There's no way A Lab On Fire could relocate t...</td>\n",
       "      <td>Bergamot, almond, violet, jasmine, leather, s...</td>\n",
       "      <td>https://static.luckyscent.com/images/products/...</td>\n",
       "    </tr>\n",
       "  </tbody>\n",
       "</table>\n",
       "</div>"
      ],
      "text/plain": [
       "                                  Name          Brand  \\\n",
       "0                 Tihota Eau de Parfum         Indult   \n",
       "1                          Sola Parfum         Di Ser   \n",
       "2                       Kagiroi Parfum         Di Ser   \n",
       "3         Velvet Fantasy Eau de Parfum        Montale   \n",
       "4  A Blvd. Called Sunset Eau de Parfum  A Lab on Fire   \n",
       "\n",
       "                                         Description  \\\n",
       "0   Rapa Nui for sugar, Tihota is, quite simply, ...   \n",
       "1   A tribute to the expanse of space extending f...   \n",
       "2   An aromatic ode to the ancient beauty of Japa...   \n",
       "3   Velvet Fantasy is a solar fragrance where cit...   \n",
       "4   There's no way A Lab On Fire could relocate t...   \n",
       "\n",
       "                                               Notes  \\\n",
       "0                                Vanilla bean, musks   \n",
       "1   Lavender, Yuzu, Lemongrass, Magnolia, Geraniu...   \n",
       "2   Green yuzu, green shikuwasa, sansho seed, cor...   \n",
       "3   tangerine,  pink pepper,  black coffee,  leat...   \n",
       "4   Bergamot, almond, violet, jasmine, leather, s...   \n",
       "\n",
       "                                           Image URL  \n",
       "0  https://static.luckyscent.com/images/products/...  \n",
       "1  https://static.luckyscent.com/images/products/...  \n",
       "2  https://static.luckyscent.com/images/products/...  \n",
       "3  https://static.luckyscent.com/images/products/...  \n",
       "4  https://static.luckyscent.com/images/products/...  "
      ]
     },
     "execution_count": 2,
     "metadata": {},
     "output_type": "execute_result"
    }
   ],
   "source": [
    "# Load the data into a pandas dataframe\n",
    "df = pd.read_csv(\"final_perfume_data.csv\", encoding=\"unicode_escape\")\n",
    "df.head()"
   ]
  },
  {
   "cell_type": "code",
   "execution_count": 3,
   "id": "f31191ed",
   "metadata": {},
   "outputs": [
    {
     "data": {
      "text/plain": [
       "[' Vanilla bean, musks',\n",
       " ' Lavender, Yuzu, Lemongrass, Magnolia, Geranium, Jasmine, Frankincense, Myrrh',\n",
       " ' Green yuzu, green shikuwasa, sansho seed, coriander, ylang-ylang, shiso, rosewood, vetiver, hinoki, cypriol, patchouli, agarwood',\n",
       " ' tangerine,  pink pepper,  black coffee,  leather,  violet,  jasmine,  lily of the valley,  heliotrope powder,  vanilla,  amber, sandalwood,  toffee,  musk,  oakmoss',\n",
       " ' Bergamot, almond, violet, jasmine, leather, sandalwood, vanilla, tonka',\n",
       " ' Orange flower, neroli, honeysuckle, warm milk, pastry, salicylates, sandalwood, vanilla bean, heliotrope',\n",
       " ' Timur JE, Soap Foam Accord (Aldehydes & Musk), Pink Pepper, Jasmine e-pure, Rose Superessence, Lily-of-the-valley Accord, Patchouli, Moss Absolute, Sandalwood Accord & Orcanox',\n",
       " ' Tobacco, hay, elemi, copaiba, olibanum, nutmeg, black pepper, castoreum, atlas cedar, oakmoss, cognac, ambroxan, norlimbanol, cinnamon, cumin seed, ash',\n",
       " ' Saffron, champaca, fir balsam, beeswax, amber, damask rose, rose de mai, tobacco, leather, dark chocolate, prune, oud, musk, oakmoss, ambrette, smoke, incense, ylang ylang',\n",
       " ' Cambodian oud, Trat oud, jasmin sambac, champaca, olibanum, turmeric, clove, caraway, cardamom, cinnamon, cumin, coriander, gardenia, opoponax, saffron, sandalwood, patchouli, musk']"
      ]
     },
     "execution_count": 3,
     "metadata": {},
     "output_type": "execute_result"
    }
   ],
   "source": [
    "# Inspect the notes column in the data\n",
    "list(df.Notes[0:10])"
   ]
  },
  {
   "cell_type": "code",
   "execution_count": 4,
   "id": "13b0550b",
   "metadata": {},
   "outputs": [
    {
     "data": {
      "text/html": [
       "<div>\n",
       "<style scoped>\n",
       "    .dataframe tbody tr th:only-of-type {\n",
       "        vertical-align: middle;\n",
       "    }\n",
       "\n",
       "    .dataframe tbody tr th {\n",
       "        vertical-align: top;\n",
       "    }\n",
       "\n",
       "    .dataframe thead th {\n",
       "        text-align: right;\n",
       "    }\n",
       "</style>\n",
       "<table border=\"1\" class=\"dataframe\">\n",
       "  <thead>\n",
       "    <tr style=\"text-align: right;\">\n",
       "      <th></th>\n",
       "      <th>Name</th>\n",
       "      <th>Notes</th>\n",
       "    </tr>\n",
       "  </thead>\n",
       "  <tbody>\n",
       "    <tr>\n",
       "      <th>0</th>\n",
       "      <td>Indult - Tihota Eau de Parfum</td>\n",
       "      <td>Vanilla bean, musks</td>\n",
       "    </tr>\n",
       "    <tr>\n",
       "      <th>1</th>\n",
       "      <td>Di Ser - Sola Parfum</td>\n",
       "      <td>Lavender, Yuzu, Lemongrass, Magnolia, Geraniu...</td>\n",
       "    </tr>\n",
       "    <tr>\n",
       "      <th>2</th>\n",
       "      <td>Di Ser - Kagiroi Parfum</td>\n",
       "      <td>Green yuzu, green shikuwasa, sansho seed, cor...</td>\n",
       "    </tr>\n",
       "    <tr>\n",
       "      <th>3</th>\n",
       "      <td>Montale - Velvet Fantasy Eau de Parfum</td>\n",
       "      <td>tangerine,  pink pepper,  black coffee,  leat...</td>\n",
       "    </tr>\n",
       "    <tr>\n",
       "      <th>4</th>\n",
       "      <td>A Lab on Fire - A Blvd. Called Sunset Eau de P...</td>\n",
       "      <td>Bergamot, almond, violet, jasmine, leather, s...</td>\n",
       "    </tr>\n",
       "  </tbody>\n",
       "</table>\n",
       "</div>"
      ],
      "text/plain": [
       "                                                Name  \\\n",
       "0                      Indult - Tihota Eau de Parfum   \n",
       "1                               Di Ser - Sola Parfum   \n",
       "2                            Di Ser - Kagiroi Parfum   \n",
       "3             Montale - Velvet Fantasy Eau de Parfum   \n",
       "4  A Lab on Fire - A Blvd. Called Sunset Eau de P...   \n",
       "\n",
       "                                               Notes  \n",
       "0                                Vanilla bean, musks  \n",
       "1   Lavender, Yuzu, Lemongrass, Magnolia, Geraniu...  \n",
       "2   Green yuzu, green shikuwasa, sansho seed, cor...  \n",
       "3   tangerine,  pink pepper,  black coffee,  leat...  \n",
       "4   Bergamot, almond, violet, jasmine, leather, s...  "
      ]
     },
     "execution_count": 4,
     "metadata": {},
     "output_type": "execute_result"
    }
   ],
   "source": [
    "# Rename the \"ï»¿Name\" column to \"Name\", concatenate the brand name with the perfume name to create a new \"Name\" column, and drop unnecessary columns\n",
    "df.rename(columns={\"ï»¿Name\": \"Name\"}, inplace=True)\n",
    "df['Name'] = df['Brand'] + \" - \" + df['Name']\n",
    "df.drop(labels=['Description', 'Image URL', 'Brand'], axis=1, inplace=True)\n",
    "df.head()"
   ]
  },
  {
   "cell_type": "code",
   "execution_count": 5,
   "id": "ca85947b",
   "metadata": {},
   "outputs": [
    {
     "data": {
      "text/plain": [
       "80"
      ]
     },
     "execution_count": 5,
     "metadata": {},
     "output_type": "execute_result"
    }
   ],
   "source": [
    "# Check for null values in the notes column\n",
    "df.Notes.isnull().sum()"
   ]
  },
  {
   "cell_type": "code",
   "execution_count": 6,
   "id": "1163efa6",
   "metadata": {},
   "outputs": [
    {
     "data": {
      "text/plain": [
       "(2111, 2)"
      ]
     },
     "execution_count": 6,
     "metadata": {},
     "output_type": "execute_result"
    }
   ],
   "source": [
    "# Drop rows with null values in the notes column, reset the index, and update the dataframe\n",
    "df.dropna(inplace = True)\n",
    "df.reset_index(inplace=True, drop = True)\n",
    "df.shape"
   ]
  },
  {
   "cell_type": "code",
   "execution_count": 7,
   "id": "2da172b7",
   "metadata": {},
   "outputs": [
    {
     "data": {
      "text/plain": [
       "(1612, 2)"
      ]
     },
     "execution_count": 7,
     "metadata": {},
     "output_type": "execute_result"
    }
   ],
   "source": [
    "# Define a list of words to check for in perfume names\n",
    "words = [\"Perfume Oil\", \"Extrait\", \"Travel\", \"Hair\", \"Body\", \"Hand\", \"Intense\", \"Intensivo\", \"Oil\"]\n",
    "\n",
    "# Create a list of indices for perfumes that contain any of the words in the \"words\" list, drop those rows, and update the dataframe\n",
    "index_to_drop = []\n",
    "for index, name in enumerate(df.Name):\n",
    "    if any(word.lower() in name.lower() for word in words):\n",
    "        index_to_drop.append(index)\n",
    "df.drop(index_to_drop, axis=0, inplace=True)\n",
    "df.reset_index(inplace=True, drop = True)\n",
    "df.shape"
   ]
  },
  {
   "cell_type": "code",
   "execution_count": 8,
   "id": "3552d078",
   "metadata": {},
   "outputs": [
    {
     "data": {
      "text/plain": [
       "1612"
      ]
     },
     "execution_count": 8,
     "metadata": {},
     "output_type": "execute_result"
    }
   ],
   "source": [
    "# Convert the notes column to strings and create a list of notes\n",
    "df.Notes = df.Notes.apply(lambda x: str(x))\n",
    "notes = df.Notes.to_list()\n",
    "len(notes)"
   ]
  },
  {
   "cell_type": "code",
   "execution_count": 9,
   "id": "e2191dac",
   "metadata": {},
   "outputs": [
    {
     "data": {
      "application/vnd.jupyter.widget-view+json": {
       "model_id": "065cb7b3b865437aa0e875b1fe56752e",
       "version_major": 2,
       "version_minor": 0
      },
      "text/plain": [
       "Batches:   0%|          | 0/26 [00:00<?, ?it/s]"
      ]
     },
     "metadata": {},
     "output_type": "display_data"
    }
   ],
   "source": [
    "# Load a pre-trained sentence transformer model and encode the notes to get embeddings\n",
    "model = SentenceTransformer('all-MiniLM-L6-v2')\n",
    "note_embeddings = model.encode(notes, show_progress_bar=True, batch_size=64)"
   ]
  },
  {
   "cell_type": "code",
   "execution_count": 10,
   "id": "9208bdbd",
   "metadata": {},
   "outputs": [
    {
     "name": "stdout",
     "output_type": "stream",
     "text": [
      "(1612, 384)\n",
      "[-0.00921524 -0.00588333  0.07965603  0.01108184  0.0920339  -0.06118878\n",
      "  0.06980839  0.04193391  0.01312284 -0.00108816  0.06511044 -0.08008223\n",
      "  0.01984981 -0.13829458 -0.02251236 -0.00748578  0.12410549  0.06448846\n",
      "  0.00684044 -0.01724513  0.04117164  0.01706347  0.00854874  0.06719033\n",
      " -0.05611396  0.01932547  0.02498643 -0.02417995 -0.03028038 -0.12058594\n",
      " -0.01737692  0.03183731  0.01314924  0.02147919 -0.10208161  0.0320526\n",
      " -0.01535685 -0.02603945  0.06542445 -0.01513855  0.01592387 -0.06788438\n",
      "  0.01501888 -0.01736868 -0.06789885 -0.01907123  0.01838118 -0.0566425\n",
      " -0.00130135 -0.01895572]\n"
     ]
    }
   ],
   "source": [
    "# Inspect the shape and values of the embeddings\n",
    "print(note_embeddings.shape)\n",
    "print(note_embeddings[0][:50]) # first 50 values in the embedding of \"Vanilla bean, musks\""
   ]
  },
  {
   "cell_type": "code",
   "execution_count": 11,
   "id": "2e012e99",
   "metadata": {},
   "outputs": [
    {
     "data": {
      "text/plain": [
       "torch.Size([1612, 1612])"
      ]
     },
     "execution_count": 11,
     "metadata": {},
     "output_type": "execute_result"
    }
   ],
   "source": [
    "# Calculate cosine similarity scores between all pairs of note embeddings\n",
    "cosine_scores = util.cos_sim(note_embeddings, note_embeddings)\n",
    "cosine_scores.shape"
   ]
  },
  {
   "cell_type": "code",
   "execution_count": 12,
   "id": "53499cb1",
   "metadata": {},
   "outputs": [],
   "source": [
    "# Create a list of pairs of perfume indices and their cosine similarity scores\n",
    "pairs = []\n",
    "for i in range(len(cosine_scores)-1):\n",
    "    for j in range(i+1, len(cosine_scores)):\n",
    "        pairs.append({\"index\": [i,j], \"score\": cosine_scores[i][j]})"
   ]
  },
  {
   "cell_type": "code",
   "execution_count": 13,
   "id": "150e15fe",
   "metadata": {},
   "outputs": [],
   "source": [
    "# Define a function to get perfume recommendations based on user input\n",
    "def get_recommendation(user_perfume, user_notes):\n",
    "    # Encode user notes\n",
    "    user_embeddings = model.encode([user_notes], show_progress_bar=True)\n",
    "\n",
    "    # Calculate cosine similarity scores between user embeddings and dataset embeddings\n",
    "    cosine_scores = util.cos_sim(user_embeddings, note_embeddings)\n",
    "\n",
    "    # Create dataframe to store cosine similarity scores for each perfume\n",
    "    recommendations = pd.DataFrame({'Perfume': df['Name'], 'Score': cosine_scores[0]})\n",
    "\n",
    "    # Sort recommendations by score\n",
    "    recommendations = recommendations.sort_values(by='Score', ascending=False)\n",
    "\n",
    "    # Remove the user's perfume from the recommendations\n",
    "    recommendations = recommendations[recommendations['Perfume'] != user_perfume]\n",
    "    \n",
    "    # Sort the scores in descending order and recommend top 5 perfumes\n",
    "    my_pairs=[]\n",
    "    for j in range(cosine_scores.shape[1]):\n",
    "        my_pairs.append({\"index\": j, \"score\": cosine_scores[0][j]})\n",
    "    my_sorted_pairs = sorted(my_pairs, key=lambda x: x['score'], reverse=True)\n",
    "    \n",
    "    # print the top 5 recommendations\n",
    "    print(f\"Recommended for {user_perfume}:\")\n",
    "    for no, pair in enumerate(my_sorted_pairs[:5]):\n",
    "        print(f\" {no+1}. {df.iloc[pair['index'], 0]} (Score: {pair['score']:.2f})\")\n",
    "\n",
    "    return"
   ]
  },
  {
   "cell_type": "code",
   "execution_count": 14,
   "id": "f5821b3b",
   "metadata": {
    "scrolled": true
   },
   "outputs": [
    {
     "data": {
      "application/vnd.jupyter.widget-view+json": {
       "model_id": "323b2bf8fdb44a31a25dc66a563d9653",
       "version_major": 2,
       "version_minor": 0
      },
      "text/plain": [
       "Batches:   0%|          | 0/1 [00:00<?, ?it/s]"
      ]
     },
     "metadata": {},
     "output_type": "display_data"
    },
    {
     "name": "stdout",
     "output_type": "stream",
     "text": [
      "Recommended for Jo Malone - English Pear & Freesia:\n",
      " 1. Alexandre. J - Silver Ombre Eau de Parfum (Score: 0.80)\n",
      " 2. Montale - Starry Nights Eau de Parfum (Score: 0.79)\n",
      " 3. BDK Parfums - Bouquet de Hongrie Eau de Parfum (Score: 0.79)\n",
      " 4. Jovoy Paris - Psychedelique Eau de Parfum (Score: 0.79)\n",
      " 5. L'Artisan Parfumeur - Champ de Fleurs Eau de Cologne (Score: 0.78)\n"
     ]
    }
   ],
   "source": [
    "# Test the recommendation function with sample input\n",
    "user_perfume = 'Jo Malone - English Pear & Freesia'\n",
    "user_notes = 'Pear, Melon, Freesia, Rose, Musk, Patchouli, Rhuburb, Amber'\n",
    "recommendations = get_recommendation(user_perfume, user_notes)"
   ]
  },
  {
   "cell_type": "code",
   "execution_count": null,
   "id": "d606537d",
   "metadata": {},
   "outputs": [],
   "source": []
  },
  {
   "cell_type": "code",
   "execution_count": 18,
   "id": "41080aeb",
   "metadata": {},
   "outputs": [],
   "source": [
    "import pickle\n",
    "\n",
    "# create a dictionary to store the model, dataframe and note_embeddings\n",
    "model_dict = {\n",
    "    'model': model,  # the SentenceTransformer model used to encode notes\n",
    "    'df': df,  # the dataframe with perfume names and notes\n",
    "    'note_embeddings': note_embeddings  # the embeddings for each note in the dataframe\n",
    "}"
   ]
  },
  {
   "cell_type": "code",
   "execution_count": 20,
   "id": "74a0a2fc",
   "metadata": {},
   "outputs": [],
   "source": [
    "# open a new file called \"model.pkl\" in write binary mode\n",
    "with open('FYF_model.pkl', 'wb') as f:\n",
    "    # write the model_dict dictionary to the file using pickle\n",
    "    pickle.dump(model_dict, f)"
   ]
  }
 ],
 "metadata": {
  "kernelspec": {
   "display_name": "Python 3 (ipykernel)",
   "language": "python",
   "name": "python3"
  },
  "language_info": {
   "codemirror_mode": {
    "name": "ipython",
    "version": 3
   },
   "file_extension": ".py",
   "mimetype": "text/x-python",
   "name": "python",
   "nbconvert_exporter": "python",
   "pygments_lexer": "ipython3",
   "version": "3.9.7"
  }
 },
 "nbformat": 4,
 "nbformat_minor": 5
}
